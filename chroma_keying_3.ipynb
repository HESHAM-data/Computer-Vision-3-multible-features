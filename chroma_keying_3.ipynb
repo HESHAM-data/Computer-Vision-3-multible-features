{
 "cells": [
  {
   "cell_type": "code",
   "execution_count": 1,
   "metadata": {
    "collapsed": true
   },
   "outputs": [],
   "source": [
    "import cv2\n",
    "import matplotlib.pyplot as plt\n",
    "import matplotlib\n",
    "%matplotlib inline\n",
    "import numpy as np"
   ]
  },
  {
   "cell_type": "code",
   "execution_count": 2,
   "metadata": {
    "collapsed": true
   },
   "outputs": [],
   "source": [
    "import numpy as np\n",
    "import cv2\n",
    "\n",
    "\n",
    "def main():\n",
    "    \"\"\"\n",
    "    aaaa\n",
    "    \"\"\"\n",
    "    # default cam matrix rows and columns\n",
    "      # use external cam\n",
    "    im=cv2.imread('images.jpeg')\n",
    "    cv2.namedWindow('photo',cv2.WINDOW_AUTOSIZE)\n",
    "    \n",
    "    # get the background and resize it.\n",
    "    img_back = cv2.imread('fantasy-sky_90839-278.jpg.webp')\n",
    "    background_color = np.uint8([[[0, 255, 0]]])\n",
    "    hls_background_color = cv2.cvtColor(background_color, cv2.COLOR_BGR2HLS)\n",
    "    hls_background_color = hls_background_color[0][0]\n",
    "    panel=np.zeros([100,700,3], np.uint8)\n",
    "    cv2.namedWindow('panel')\n",
    "    def nothing(x):\n",
    "        pass\n",
    "    cv2.createTrackbar('L - h','panel',0,179,nothing)\n",
    "    cv2.createTrackbar('U _ h','panel',179,179,nothing)\n",
    "    \n",
    "    \n",
    "    while True:\n",
    "        \n",
    "        cols, rows = im.shape[:2]\n",
    "        background = img_back[0:cols, 0:rows]\n",
    "        \n",
    "\n",
    "        hsv_image = cv2.cvtColor(im, cv2.COLOR_BGR2HSV)\n",
    "        h= hsv_image[:,:,0]\n",
    "        \n",
    "       \n",
    "        l_h=cv2.getTrackbarPos('L - h','panel')\n",
    "        u_h=cv2.getTrackbarPos('U _ h','panel')\n",
    "        mask_single=cv2.inRange(h,l_h,u_h)\n",
    "        mask=np.zeros(hsv_image.shape,dtype=np.uint8)\n",
    "        mask[:,:,0]=mask_single\n",
    "        mask[:,:,1]=mask_single\n",
    "        mask[:,:,2]=mask_single\n",
    "\n",
    "\n",
    "        blured = cv2.GaussianBlur(mask, (11, 11), 0)\n",
    "        blured_inverted = cv2.bitwise_not(blured)\n",
    "        bg_key = cv2.bitwise_and(background, blured)\n",
    "        fg_key = cv2.bitwise_and(im, blured_inverted)\n",
    "        \n",
    "        keyed = cv2.add(bg_key, fg_key)\n",
    "        \n",
    "        cv2.imshow('frame', keyed)\n",
    "        cv2.imshow('mask',mask)\n",
    "        cv2.imshow('panel',panel)\n",
    "        k = cv2.waitKey(200)\n",
    "        if k == 27:  # ESC\n",
    "            break\n",
    "\n",
    "if __name__ == \"__main__\":\n",
    "    main()"
   ]
  },
  {
   "cell_type": "code",
   "execution_count": null,
   "metadata": {
    "collapsed": true
   },
   "outputs": [],
   "source": []
  }
 ],
 "metadata": {
  "kernelspec": {
   "display_name": "Python 3 [3.6]",
   "language": "python",
   "name": "python3"
  },
  "language_info": {
   "codemirror_mode": {
    "name": "ipython",
    "version": 3
   },
   "file_extension": ".py",
   "mimetype": "text/x-python",
   "name": "python",
   "nbconvert_exporter": "python",
   "pygments_lexer": "ipython3",
   "version": "3.6.4"
  }
 },
 "nbformat": 4,
 "nbformat_minor": 2
}
